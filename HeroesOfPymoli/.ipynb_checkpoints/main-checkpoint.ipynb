{
 "cells": [
  {
   "cell_type": "code",
   "execution_count": 46,
   "metadata": {},
   "outputs": [],
   "source": [
    "import pandas as pd\n",
    "import numpy as np\n",
    "\n",
    "pd.options.display.float_format = '${:,.2f}'.format"
   ]
  },
  {
   "cell_type": "code",
   "execution_count": 47,
   "metadata": {},
   "outputs": [
    {
     "data": {
      "text/plain": [
       "['Purchase ID', 'SN', 'Age', 'Gender', 'Item ID', 'Item Name', 'Price']"
      ]
     },
     "execution_count": 47,
     "metadata": {},
     "output_type": "execute_result"
    }
   ],
   "source": [
    "csv_path = 'Resources/purchase_data.csv'\n",
    "data_df = pd.read_csv(csv_path)\n",
    "\n",
    "list(data_df)"
   ]
  },
  {
   "cell_type": "code",
   "execution_count": 85,
   "metadata": {},
   "outputs": [],
   "source": [
    "# Number of Players\n",
    "\n",
    "num_players = data_df[\"SN\"].nunique()\n",
    "\n",
    "players_df = pd.DataFrame({\"Number of Players\": [num_players]})"
   ]
  },
  {
   "cell_type": "code",
   "execution_count": 49,
   "metadata": {},
   "outputs": [],
   "source": [
    "# Purchasing Analysis (Total)\n",
    "\n",
    "purchasing_data = {\n",
    "    \"Number of Unique Items\": [data_df[\"Item Name\"].nunique()],\n",
    "    \"Average Price\": [round(data_df[\"Price\"].mean(), 2)],\n",
    "    \"Number of Purchases\": [data_df[\"Purchase ID\"].count()],\n",
    "    \"Total Revenue\": [data_df[\"Price\"].sum()]\n",
    "}\n",
    "\n",
    "purchasing_df = pd.DataFrame(purchasing_data).set_index(\"Number of Unique Items\")"
   ]
  },
  {
   "cell_type": "code",
   "execution_count": 50,
   "metadata": {},
   "outputs": [],
   "source": [
    "# Gender Demographics\n",
    "\n",
    "gender_gpby = data_df.groupby(\"Gender\")\n",
    "\n",
    "gender_tally_df = pd.DataFrame(gender_gpby[\"SN\"].nunique())\n",
    "gender_tally_df = gender_tally_df.rename(columns={\"SN\": \"Total Count\"})\n",
    "gender_tally_df[\"Percentage of Players\"] = (100 * gender_tally_df[\"Total Count\"] / num_players).map(\"{:.2f}%\".format)"
   ]
  },
  {
   "cell_type": "code",
   "execution_count": 51,
   "metadata": {},
   "outputs": [],
   "source": [
    "# Purchasing Analysis (Gender)\n",
    "\n",
    "gender_analysis_df = pd.DataFrame()\n",
    "\n",
    "gender_analysis_df[\"Purchase Count\"] = gender_gpby[\"Purchase ID\"].count()\n",
    "gender_analysis_df[\"Average Purchase Price\"] = gender_gpby[\"Price\"].mean()\n",
    "gender_analysis_df[\"Total Purchase Value\"] = gender_gpby[\"Price\"].sum()\n",
    "gender_analysis_df[\"Avg Total Purchase per Person\"] = gender_analysis_df[\"Total Purchase Value\"] / gender_tally_df[\"Total Count\"]"
   ]
  },
  {
   "cell_type": "code",
   "execution_count": 52,
   "metadata": {},
   "outputs": [],
   "source": [
    "# Age Demographics\n",
    "\n",
    "age_bins = [0, 9.9, 14.9, 19.9, 24.9, 29.9, 34.9, 39.9, 1000]\n",
    "bin_names = [\"< 10\", \"10 - 14\", \"15 - 19\", \"20 - 24\", \"25 - 29\", \"30 - 34\", \"35 - 39\", \"> 40\"]\n",
    "\n",
    "data_df[\"Age Range\"] = pd.cut(data_df[\"Age\"], age_bins, labels=bin_names, include_lowest=True)\n",
    "\n",
    "age_gpby = data_df.groupby(\"Age Range\")\n",
    "\n",
    "age_tally_df = pd.DataFrame(age_gpby[\"SN\"].nunique())\n",
    "age_tally_df = age_tally_df.rename(columns={\"SN\": \"Total Count\"})\n",
    "age_tally_df[\"Percentage of Players\"] = (100 * age_tally_df[\"Total Count\"] / num_players).map(\"{:.2f}%\".format)"
   ]
  },
  {
   "cell_type": "code",
   "execution_count": 53,
   "metadata": {},
   "outputs": [],
   "source": [
    "# Purchasing Analysis (Age)\n",
    "\n",
    "age_analysis_df = pd.DataFrame()\n",
    "\n",
    "age_analysis_df[\"Purchase Count\"] = age_gpby[\"Purchase ID\"].count()\n",
    "age_analysis_df[\"Average Purchase Price\"] = age_gpby[\"Price\"].mean()\n",
    "age_analysis_df[\"Total Purchase Value\"] = age_gpby[\"Price\"].sum()\n",
    "age_analysis_df[\"Avg Total Purchase per Person\"] = age_analysis_df[\"Total Purchase Value\"] / age_tally_df[\"Total Count\"]"
   ]
  },
  {
   "cell_type": "code",
   "execution_count": 54,
   "metadata": {},
   "outputs": [],
   "source": [
    "# Top Spenders\n",
    "\n",
    "players_gpby = data_df.groupby(\"SN\")\n",
    "\n",
    "# get the 5 highest spenders & their data, then sort & get top 5 using iloc\n",
    "top_spenders_df = players_gpby[\"Price\"].sum().reset_index()\n",
    "top_spenders_df[\"Purchase Count\"] = players_gpby[\"Purchase ID\"].count().reset_index()[\"Purchase ID\"]\n",
    "top_spenders_df[\"Average Purchase Price\"] = top_spenders_df[\"Price\"] / top_spenders_df[\"Purchase Count\"]\n",
    "top_spenders_df = top_spenders_df.sort_values(\"Price\", ascending=False).iloc[:5]\n",
    "\n",
    "# do housekeeping\n",
    "top_spenders_df = top_spenders_df.set_index(\"SN\")\n",
    "top_spenders_df = top_spenders_df.rename(columns={\"Price\": \"Total Purchase Value\"})\n",
    "top_spenders_df = top_spenders_df[[\"Purchase Count\", \"Average Purchase Price\", \"Total Purchase Value\"]]"
   ]
  },
  {
   "cell_type": "code",
   "execution_count": 55,
   "metadata": {},
   "outputs": [],
   "source": [
    "# Most Popular Items\n",
    "\n",
    "most_pop_gpby = data_df[[\"Item ID\", \"Item Name\", \"Price\", \"Purchase ID\"]].groupby([\"Item ID\", \"Item Name\"])\n",
    "\n",
    "# get the 5 most frequently purchased items & their data\n",
    "by_item_df = most_pop_gpby[\"Purchase ID\"].count().reset_index()\n",
    "by_item_df[\"Item Price\"] = most_pop_gpby[\"Price\"].mean().reset_index()[\"Price\"]\n",
    "by_item_df[\"Total Purchase Value\"] = most_pop_gpby[\"Price\"].sum().reset_index()[\"Price\"]\n",
    "\n",
    "# do housekeeping\n",
    "by_item_df = by_item_df.rename(columns={\"Purchase ID\": \"Purchase Count\"})\n",
    "by_item_df = by_item_df.set_index(\"Item ID\")\n",
    "\n",
    "# sort & get top 5 using iloc\n",
    "most_pop_df = by_item_df.sort_values(\"Purchase Count\", ascending=False).iloc[:5]"
   ]
  },
  {
   "cell_type": "code",
   "execution_count": 56,
   "metadata": {},
   "outputs": [
    {
     "data": {
      "text/html": [
       "<div>\n",
       "<style scoped>\n",
       "    .dataframe tbody tr th:only-of-type {\n",
       "        vertical-align: middle;\n",
       "    }\n",
       "\n",
       "    .dataframe tbody tr th {\n",
       "        vertical-align: top;\n",
       "    }\n",
       "\n",
       "    .dataframe thead th {\n",
       "        text-align: right;\n",
       "    }\n",
       "</style>\n",
       "<table border=\"1\" class=\"dataframe\">\n",
       "  <thead>\n",
       "    <tr style=\"text-align: right;\">\n",
       "      <th></th>\n",
       "      <th>Item Name</th>\n",
       "      <th>Purchase Count</th>\n",
       "      <th>Item Price</th>\n",
       "      <th>Total Purchase Value</th>\n",
       "    </tr>\n",
       "    <tr>\n",
       "      <th>Item ID</th>\n",
       "      <th></th>\n",
       "      <th></th>\n",
       "      <th></th>\n",
       "      <th></th>\n",
       "    </tr>\n",
       "  </thead>\n",
       "  <tbody>\n",
       "    <tr>\n",
       "      <th>92</th>\n",
       "      <td>Final Critic</td>\n",
       "      <td>13</td>\n",
       "      <td>$4.61</td>\n",
       "      <td>$59.99</td>\n",
       "    </tr>\n",
       "    <tr>\n",
       "      <th>178</th>\n",
       "      <td>Oathbreaker, Last Hope of the Breaking Storm</td>\n",
       "      <td>12</td>\n",
       "      <td>$4.23</td>\n",
       "      <td>$50.76</td>\n",
       "    </tr>\n",
       "    <tr>\n",
       "      <th>82</th>\n",
       "      <td>Nirvana</td>\n",
       "      <td>9</td>\n",
       "      <td>$4.90</td>\n",
       "      <td>$44.10</td>\n",
       "    </tr>\n",
       "    <tr>\n",
       "      <th>145</th>\n",
       "      <td>Fiery Glass Crusader</td>\n",
       "      <td>9</td>\n",
       "      <td>$4.58</td>\n",
       "      <td>$41.22</td>\n",
       "    </tr>\n",
       "    <tr>\n",
       "      <th>103</th>\n",
       "      <td>Singed Scalpel</td>\n",
       "      <td>8</td>\n",
       "      <td>$4.35</td>\n",
       "      <td>$34.80</td>\n",
       "    </tr>\n",
       "  </tbody>\n",
       "</table>\n",
       "</div>"
      ],
      "text/plain": [
       "                                            Item Name  Purchase Count  \\\n",
       "Item ID                                                                 \n",
       "92                                       Final Critic              13   \n",
       "178      Oathbreaker, Last Hope of the Breaking Storm              12   \n",
       "82                                            Nirvana               9   \n",
       "145                              Fiery Glass Crusader               9   \n",
       "103                                    Singed Scalpel               8   \n",
       "\n",
       "         Item Price  Total Purchase Value  \n",
       "Item ID                                    \n",
       "92            $4.61                $59.99  \n",
       "178           $4.23                $50.76  \n",
       "82            $4.90                $44.10  \n",
       "145           $4.58                $41.22  \n",
       "103           $4.35                $34.80  "
      ]
     },
     "execution_count": 56,
     "metadata": {},
     "output_type": "execute_result"
    }
   ],
   "source": [
    "# Most Profitable Items\n",
    "\n",
    "# already have the table from most popular, just need to sort by total value instead\n",
    "most_profitable_df = by_item_df.sort_values(\"Total Purchase Value\", ascending=False).iloc[:5]\n",
    "\n",
    "most_profitable_df"
   ]
  },
  {
   "cell_type": "code",
   "execution_count": 94,
   "metadata": {},
   "outputs": [],
   "source": [
    "# Output some HTML\n",
    "\n",
    "# HTML5 boilerplate\n",
    "html_string = \"let text = `\"\n",
    "html_string += f'<div id=\"players\" class=\"container\"><h3 class=\"lead\">Number of Players</h3>{players_df.to_html(index=False)}</div>'\n",
    "html_string += f'<div id=\"players\" class=\"container\"><h3 class=\"lead\">Purchasing Analysis (Total)</h3>{purchasing_df.to_html()}</div>'\n",
    "html_string += f'<div id=\"players\" class=\"container\"><h3 class=\"lead\">Gender Demographics</h3>{gender_tally_df.to_html()}</div>'\n",
    "html_string += f'<div id=\"players\" class=\"container\"><h3 class=\"lead\">Purchasing Analysis (Gender)</h3>{gender_analysis_df.to_html()}</div>'\n",
    "html_string += f'<div id=\"players\" class=\"container\"><h3 class=\"lead\">Age Demographics</h3>{age_tally_df.to_html()}</div>'\n",
    "html_string += f'<div id=\"players\" class=\"container\"><h3 class=\"lead\">Purchasing Analysis (Age)</h3>{age_analysis_df.to_html()}</div>'\n",
    "html_string += f'<div id=\"players\" class=\"container\"><h3 class=\"lead\">Top Spenders</h3>{top_spenders_df.to_html()}</div>'\n",
    "html_string += f'<div id=\"players\" class=\"container\"><h3 class=\"lead\">Most Popular Items</h3>{most_pop_df.to_html()}</div>'\n",
    "html_string += f'<div id=\"players\" class=\"container\"><h3 class=\"lead\">Most Profitable Items</h3>{most_profitable_df.to_html()}</div>'\n",
    "html_string += \"`\""
   ]
  },
  {
   "cell_type": "code",
   "execution_count": 95,
   "metadata": {},
   "outputs": [],
   "source": [
    "with open('Output/output.txt', 'w') as f:\n",
    "    f.truncate(0)\n",
    "    f.write(html_string)"
   ]
  },
  {
   "cell_type": "code",
   "execution_count": null,
   "metadata": {},
   "outputs": [],
   "source": []
  }
 ],
 "metadata": {
  "kernelspec": {
   "display_name": "Python [conda env:PythonData] *",
   "language": "python",
   "name": "conda-env-PythonData-py"
  },
  "language_info": {
   "codemirror_mode": {
    "name": "ipython",
    "version": 3
   },
   "file_extension": ".py",
   "mimetype": "text/x-python",
   "name": "python",
   "nbconvert_exporter": "python",
   "pygments_lexer": "ipython3",
   "version": "3.6.10"
  }
 },
 "nbformat": 4,
 "nbformat_minor": 2
}
