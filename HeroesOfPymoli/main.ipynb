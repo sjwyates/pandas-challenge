{
 "cells": [
  {
   "cell_type": "code",
   "execution_count": 1,
   "metadata": {},
   "outputs": [],
   "source": [
    "import pandas as pd\n",
    "import numpy as np\n",
    "\n",
    "pd.options.display.float_format = '${:,.2f}'.format"
   ]
  },
  {
   "cell_type": "code",
   "execution_count": 2,
   "metadata": {},
   "outputs": [],
   "source": [
    "csv_path = 'Resources/purchase_data.csv'\n",
    "data_df = pd.read_csv(csv_path)"
   ]
  },
  {
   "cell_type": "code",
   "execution_count": 3,
   "metadata": {},
   "outputs": [],
   "source": [
    "# Number of Players\n",
    "\n",
    "num_players = data_df[\"SN\"].nunique()\n",
    "\n",
    "players_df = pd.DataFrame({\"Number of Players\": [num_players]})"
   ]
  },
  {
   "cell_type": "code",
   "execution_count": 4,
   "metadata": {},
   "outputs": [],
   "source": [
    "# Purchasing Analysis (Total)\n",
    "\n",
    "purchasing_data = {\n",
    "    \"Number of Unique Items\": [data_df[\"Item Name\"].nunique()],\n",
    "    \"Average Price\": [round(data_df[\"Price\"].mean(), 2)],\n",
    "    \"Number of Purchases\": [data_df[\"Purchase ID\"].count()],\n",
    "    \"Total Revenue\": [data_df[\"Price\"].sum()]\n",
    "}\n",
    "\n",
    "purchasing_df = pd.DataFrame(purchasing_data)"
   ]
  },
  {
   "cell_type": "code",
   "execution_count": 5,
   "metadata": {},
   "outputs": [],
   "source": [
    "# Gender Demographics\n",
    "\n",
    "gender_gpby = data_df.groupby(\"Gender\")\n",
    "\n",
    "gender_tally_df = pd.DataFrame(gender_gpby[\"SN\"].nunique())\n",
    "gender_tally_df = gender_tally_df.rename(columns={\"SN\": \"Total Count\"})\n",
    "gender_tally_df[\"Percentage of Players\"] = (100 * gender_tally_df[\"Total Count\"] / num_players).map(\"{:.2f}%\".format)"
   ]
  },
  {
   "cell_type": "code",
   "execution_count": 6,
   "metadata": {},
   "outputs": [],
   "source": [
    "# Purchasing Analysis (Gender)\n",
    "\n",
    "gender_analysis_df = pd.DataFrame()\n",
    "\n",
    "gender_analysis_df[\"Purchase Count\"] = gender_gpby[\"Purchase ID\"].count()\n",
    "gender_analysis_df[\"Average Purchase Price\"] = gender_gpby[\"Price\"].mean()\n",
    "gender_analysis_df[\"Total Purchase Value\"] = gender_gpby[\"Price\"].sum()\n",
    "gender_analysis_df[\"Avg Total Purchase per Person\"] = gender_analysis_df[\"Total Purchase Value\"] / gender_tally_df[\"Total Count\"]"
   ]
  },
  {
   "cell_type": "code",
   "execution_count": 7,
   "metadata": {},
   "outputs": [],
   "source": [
    "# Age Demographics\n",
    "\n",
    "age_bins = [0, 9.9, 14.9, 19.9, 24.9, 29.9, 34.9, 39.9, 1000]\n",
    "bin_names = [\"< 10\", \"10 - 14\", \"15 - 19\", \"20 - 24\", \"25 - 29\", \"30 - 34\", \"35 - 39\", \"> 40\"]\n",
    "\n",
    "data_df[\"Age Range\"] = pd.cut(data_df[\"Age\"], age_bins, labels=bin_names, include_lowest=True)\n",
    "\n",
    "age_gpby = data_df.groupby(\"Age Range\")\n",
    "\n",
    "age_tally_df = pd.DataFrame(age_gpby[\"SN\"].nunique())\n",
    "age_tally_df = age_tally_df.rename(columns={\"SN\": \"Total Count\"})\n",
    "age_tally_df[\"Percentage of Players\"] = (100 * age_tally_df[\"Total Count\"] / num_players).map(\"{:.2f}%\".format)"
   ]
  },
  {
   "cell_type": "code",
   "execution_count": 8,
   "metadata": {},
   "outputs": [],
   "source": [
    "# Purchasing Analysis (Age)\n",
    "\n",
    "age_analysis_df = pd.DataFrame()\n",
    "\n",
    "age_analysis_df[\"Purchase Count\"] = age_gpby[\"Purchase ID\"].count()\n",
    "age_analysis_df[\"Average Purchase Price\"] = age_gpby[\"Price\"].mean()\n",
    "age_analysis_df[\"Total Purchase Value\"] = age_gpby[\"Price\"].sum()\n",
    "age_analysis_df[\"Avg Total Purchase per Person\"] = age_analysis_df[\"Total Purchase Value\"] / age_tally_df[\"Total Count\"]"
   ]
  },
  {
   "cell_type": "code",
   "execution_count": 9,
   "metadata": {},
   "outputs": [],
   "source": [
    "# Top Spenders\n",
    "\n",
    "players_gpby = data_df.groupby(\"SN\")\n",
    "\n",
    "# get the 5 highest spenders & their data, then sort & get top 5 using iloc\n",
    "top_spenders_df = players_gpby[\"Price\"].sum().reset_index()\n",
    "top_spenders_df[\"Purchase Count\"] = players_gpby[\"Purchase ID\"].count().reset_index()[\"Purchase ID\"]\n",
    "top_spenders_df[\"Average Purchase Price\"] = top_spenders_df[\"Price\"] / top_spenders_df[\"Purchase Count\"]\n",
    "top_spenders_df = top_spenders_df.sort_values(\"Price\", ascending=False).iloc[:5]\n",
    "\n",
    "# do housekeeping\n",
    "top_spenders_df = top_spenders_df.set_index(\"SN\")\n",
    "top_spenders_df = top_spenders_df.rename(columns={\"Price\": \"Total Purchase Value\"})\n",
    "top_spenders_df = top_spenders_df[[\"Purchase Count\", \"Average Purchase Price\", \"Total Purchase Value\"]]"
   ]
  },
  {
   "cell_type": "code",
   "execution_count": 10,
   "metadata": {},
   "outputs": [],
   "source": [
    "# Most Popular Items\n",
    "\n",
    "most_pop_gpby = data_df[[\"Item ID\", \"Item Name\", \"Price\", \"Purchase ID\"]].groupby([\"Item ID\", \"Item Name\"])\n",
    "\n",
    "# get the 5 most frequently purchased items & their data\n",
    "by_item_df = most_pop_gpby[\"Purchase ID\"].count().reset_index()\n",
    "by_item_df[\"Item Price\"] = most_pop_gpby[\"Price\"].mean().reset_index()[\"Price\"]\n",
    "by_item_df[\"Total Purchase Value\"] = most_pop_gpby[\"Price\"].sum().reset_index()[\"Price\"]\n",
    "\n",
    "# do housekeeping\n",
    "by_item_df = by_item_df.rename(columns={\"Purchase ID\": \"Purchase Count\"})\n",
    "by_item_df = by_item_df.set_index(\"Item ID\")\n",
    "\n",
    "# sort & get top 5 using iloc\n",
    "most_pop_df = by_item_df.sort_values(\"Purchase Count\", ascending=False).iloc[:5]"
   ]
  },
  {
   "cell_type": "code",
   "execution_count": 11,
   "metadata": {},
   "outputs": [],
   "source": [
    "# Most Profitable Items\n",
    "\n",
    "# already have the table from most popular, just need to sort by total value instead\n",
    "most_profitable_df = by_item_df.sort_values(\"Total Purchase Value\", ascending=False).iloc[:5]"
   ]
  },
  {
   "cell_type": "code",
   "execution_count": 12,
   "metadata": {},
   "outputs": [],
   "source": [
    "# Output some HTML\n",
    "\n",
    "# HTML5 boilerplate\n",
    "html_string = \"let text = `\"\n",
    "html_string += f'<div id=\"players\" class=\"container table-container\">{players_df.to_html(index=False)}</div>'\n",
    "html_string += f'<div id=\"purchasing\" class=\"container table-container\">{purchasing_df.to_html(index=False)}</div>'\n",
    "html_string += f'<div id=\"genderDemos\" class=\"container table-container\">{gender_tally_df.reset_index().to_html(index=False)}</div>'\n",
    "html_string += f'<div id=\"genderAnalysis\" class=\"container table-container\">{gender_analysis_df.reset_index().to_html(index=False)}</div>'\n",
    "html_string += f'<div id=\"ageDemos\" class=\"container table-container\">{age_tally_df.reset_index().to_html(index=False)}</div>'\n",
    "html_string += f'<div id=\"ageAnalysis\" class=\"container table-container\">{age_analysis_df.reset_index().to_html(index=False)}</div>'\n",
    "html_string += f'<div id=\"topSpenders\" class=\"container table-container\">{top_spenders_df.reset_index().to_html(index=False)}</div>'\n",
    "html_string += f'<div id=\"popularItems\" class=\"container table-container\">{most_pop_df.reset_index().to_html(index=False)}</div>'\n",
    "html_string += f'<div id=\"profitableItems\" class=\"container table-container\">{most_profitable_df.reset_index().to_html(index=False)}</div>'\n",
    "html_string += \"`\""
   ]
  },
  {
   "cell_type": "code",
   "execution_count": 13,
   "metadata": {},
   "outputs": [],
   "source": [
    "with open('Output/output.txt', 'w') as f:\n",
    "    f.truncate(0)\n",
    "    f.write(html_string)"
   ]
  },
  {
   "cell_type": "code",
   "execution_count": null,
   "metadata": {},
   "outputs": [],
   "source": []
  }
 ],
 "metadata": {
  "kernelspec": {
   "display_name": "Python [conda env:PythonData] *",
   "language": "python",
   "name": "conda-env-PythonData-py"
  },
  "language_info": {
   "codemirror_mode": {
    "name": "ipython",
    "version": 3
   },
   "file_extension": ".py",
   "mimetype": "text/x-python",
   "name": "python",
   "nbconvert_exporter": "python",
   "pygments_lexer": "ipython3",
   "version": "3.6.10"
  }
 },
 "nbformat": 4,
 "nbformat_minor": 2
}
