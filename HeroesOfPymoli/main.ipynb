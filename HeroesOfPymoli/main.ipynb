{
 "cells": [
  {
   "cell_type": "code",
   "execution_count": 1,
   "metadata": {},
   "outputs": [],
   "source": [
    "import pandas as pd\n",
    "import numpy as np"
   ]
  },
  {
   "cell_type": "code",
   "execution_count": 2,
   "metadata": {},
   "outputs": [],
   "source": [
    "csv_path = 'Resources/purchase_data.csv'\n",
    "data_df = pd.read_csv(csv_path)"
   ]
  },
  {
   "cell_type": "code",
   "execution_count": 21,
   "metadata": {},
   "outputs": [
    {
     "data": {
      "text/html": [
       "<div>\n",
       "<style scoped>\n",
       "    .dataframe tbody tr th:only-of-type {\n",
       "        vertical-align: middle;\n",
       "    }\n",
       "\n",
       "    .dataframe tbody tr th {\n",
       "        vertical-align: top;\n",
       "    }\n",
       "\n",
       "    .dataframe thead th {\n",
       "        text-align: right;\n",
       "    }\n",
       "</style>\n",
       "<table border=\"1\" class=\"dataframe\">\n",
       "  <thead>\n",
       "    <tr style=\"text-align: right;\">\n",
       "      <th></th>\n",
       "      <th>Number of Players</th>\n",
       "    </tr>\n",
       "  </thead>\n",
       "  <tbody>\n",
       "    <tr>\n",
       "      <th>0</th>\n",
       "      <td>576</td>\n",
       "    </tr>\n",
       "  </tbody>\n",
       "</table>\n",
       "</div>"
      ],
      "text/plain": [
       "   Number of Players\n",
       "0                576"
      ]
     },
     "execution_count": 21,
     "metadata": {},
     "output_type": "execute_result"
    }
   ],
   "source": [
    "# Number of Players\n",
    "\n",
    "num_players = data_df[\"SN\"].nunique()\n",
    "\n",
    "players_df = pd.DataFrame({\"Number of Players\": [num_players]})\n",
    "players_df"
   ]
  },
  {
   "cell_type": "code",
   "execution_count": 45,
   "metadata": {},
   "outputs": [
    {
     "data": {
      "text/html": [
       "<div>\n",
       "<style scoped>\n",
       "    .dataframe tbody tr th:only-of-type {\n",
       "        vertical-align: middle;\n",
       "    }\n",
       "\n",
       "    .dataframe tbody tr th {\n",
       "        vertical-align: top;\n",
       "    }\n",
       "\n",
       "    .dataframe thead th {\n",
       "        text-align: right;\n",
       "    }\n",
       "</style>\n",
       "<table border=\"1\" class=\"dataframe\">\n",
       "  <thead>\n",
       "    <tr style=\"text-align: right;\">\n",
       "      <th></th>\n",
       "      <th>Number of Unique Items</th>\n",
       "      <th>Average Price</th>\n",
       "      <th>Number of Purchases</th>\n",
       "      <th>Total Revenue</th>\n",
       "    </tr>\n",
       "  </thead>\n",
       "  <tbody>\n",
       "    <tr>\n",
       "      <th>0</th>\n",
       "      <td>179</td>\n",
       "      <td>$3.05</td>\n",
       "      <td>780</td>\n",
       "      <td>$2379.77</td>\n",
       "    </tr>\n",
       "  </tbody>\n",
       "</table>\n",
       "</div>"
      ],
      "text/plain": [
       "   Number of Unique Items Average Price  Number of Purchases Total Revenue\n",
       "0                     179         $3.05                  780      $2379.77"
      ]
     },
     "execution_count": 45,
     "metadata": {},
     "output_type": "execute_result"
    }
   ],
   "source": [
    "# Purchasing Analysis (Total)\n",
    "\n",
    "purchasing_data = {\n",
    "    \"Number of Unique Items\": [data_df[\"Item Name\"].nunique()],\n",
    "    \"Average Price\": [round(data_df[\"Price\"].mean(), 2)],\n",
    "    \"Number of Purchases\": [data_df[\"Purchase ID\"].count()],\n",
    "    \"Total Revenue\": [data_df[\"Price\"].sum()]\n",
    "}\n",
    "\n",
    "purchasing_df = pd.DataFrame(purchasing_data)\n",
    "purchasing_df[\"Average Price\"] = purchasing_df[\"Average Price\"].map(\"${:.2f}\".format)\n",
    "purchasing_df[\"Total Revenue\"] = purchasing_df[\"Total Revenue\"].map(\"${:.2f}\".format)\n",
    "purchasing_df"
   ]
  },
  {
   "cell_type": "code",
   "execution_count": 46,
   "metadata": {},
   "outputs": [
    {
     "data": {
      "text/html": [
       "<div>\n",
       "<style scoped>\n",
       "    .dataframe tbody tr th:only-of-type {\n",
       "        vertical-align: middle;\n",
       "    }\n",
       "\n",
       "    .dataframe tbody tr th {\n",
       "        vertical-align: top;\n",
       "    }\n",
       "\n",
       "    .dataframe thead th {\n",
       "        text-align: right;\n",
       "    }\n",
       "</style>\n",
       "<table border=\"1\" class=\"dataframe\">\n",
       "  <thead>\n",
       "    <tr style=\"text-align: right;\">\n",
       "      <th></th>\n",
       "      <th>Total Count</th>\n",
       "      <th>Percentage of Players</th>\n",
       "    </tr>\n",
       "    <tr>\n",
       "      <th>Gender</th>\n",
       "      <th></th>\n",
       "      <th></th>\n",
       "    </tr>\n",
       "  </thead>\n",
       "  <tbody>\n",
       "    <tr>\n",
       "      <th>Male</th>\n",
       "      <td>484</td>\n",
       "      <td>84.03%</td>\n",
       "    </tr>\n",
       "    <tr>\n",
       "      <th>Female</th>\n",
       "      <td>81</td>\n",
       "      <td>14.06%</td>\n",
       "    </tr>\n",
       "    <tr>\n",
       "      <th>Other / Non-Disclosed</th>\n",
       "      <td>11</td>\n",
       "      <td>1.91%</td>\n",
       "    </tr>\n",
       "  </tbody>\n",
       "</table>\n",
       "</div>"
      ],
      "text/plain": [
       "                       Total Count Percentage of Players\n",
       "Gender                                                  \n",
       "Male                           484                84.03%\n",
       "Female                          81                14.06%\n",
       "Other / Non-Disclosed           11                 1.91%"
      ]
     },
     "execution_count": 46,
     "metadata": {},
     "output_type": "execute_result"
    }
   ],
   "source": [
    "# Gender Demographics\n",
    "\n",
    "genders = (\n",
    "    \"Male\",\n",
    "    \"Female\",\n",
    "    \"Other / Non-Disclosed\"\n",
    ")\n",
    "\n",
    "gender_data = {\n",
    "    \"Gender\": [],\n",
    "    \"Total Count\": [],\n",
    "    \"Percentage of Players\": []\n",
    "}\n",
    "\n",
    "for gender in genders:\n",
    "    gender_df = data_df[(data_df['Gender'] == gender)]\n",
    "    count = gender_df['SN'].nunique()\n",
    "    pct = 100 * count / num_players\n",
    "    gender_data[\"Gender\"].append(gender)\n",
    "    gender_data[\"Total Count\"].append(count)\n",
    "    gender_data[\"Percentage of Players\"].append(pct)\n",
    "    \n",
    "gender_df = pd.DataFrame(gender_data)\n",
    "gender_df = gender_df.set_index(\"Gender\")\n",
    "gender_df[\"Percentage of Players\"] = gender_df[\"Percentage of Players\"].map(\"{:.2f}%\".format)\n",
    "gender_df"
   ]
  },
  {
   "cell_type": "code",
   "execution_count": null,
   "metadata": {},
   "outputs": [],
   "source": [
    "# Purchasing Analysis (Gender)\n",
    "\n",
    "def gender_analysis(gender):\n",
    "    df = data_df[(data_df['Gender'] == gender)]\n",
    "    purchase_count = df['Purchase ID'].count()\n",
    "    avg_price = round(df['Price'].mean(), 2)\n",
    "    total_value = round(df['Price'].sum(), 2)\n",
    "    avg_per_player = round(total_value / df['SN'].nunique(), 2)"
   ]
  },
  {
   "cell_type": "code",
   "execution_count": null,
   "metadata": {},
   "outputs": [],
   "source": [
    "# Age Demographics\n",
    "\n",
    "age_bins = (\n",
    "    (0, 10, \"< 10\"),\n",
    "    (10, 15, \"10 - 15\"),\n",
    "    (15, 20, \"15 - 20\"),\n",
    "    (20, 30, \"20 - 50\"),\n",
    "    (30, 40, \"30 - 40\"),\n",
    "    (40, 1000, \"> 40\")\n",
    ")\n",
    "\n",
    "def age_analysis(bin):\n",
    "    df = data_df[(data_df['Age'] >= bin[0]) & (data_df['Age'] < bin[1])]\n",
    "    purchase_count = df['Purchase ID'].count()\n",
    "    avg_price = round(df['Price'].mean(), 2)\n",
    "    total_value = round(df['Price'].sum(), 2)\n",
    "    avg_per_player = round(total_value / df['SN'].nunique(), 2)"
   ]
  },
  {
   "cell_type": "code",
   "execution_count": null,
   "metadata": {},
   "outputs": [],
   "source": []
  },
  {
   "cell_type": "code",
   "execution_count": null,
   "metadata": {},
   "outputs": [],
   "source": [
    "data_df"
   ]
  },
  {
   "cell_type": "code",
   "execution_count": null,
   "metadata": {},
   "outputs": [],
   "source": []
  }
 ],
 "metadata": {
  "kernelspec": {
   "display_name": "Python [conda env:PythonData] *",
   "language": "python",
   "name": "conda-env-PythonData-py"
  },
  "language_info": {
   "codemirror_mode": {
    "name": "ipython",
    "version": 3
   },
   "file_extension": ".py",
   "mimetype": "text/x-python",
   "name": "python",
   "nbconvert_exporter": "python",
   "pygments_lexer": "ipython3",
   "version": "3.6.10"
  }
 },
 "nbformat": 4,
 "nbformat_minor": 2
}
